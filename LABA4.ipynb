{
  "nbformat": 4,
  "nbformat_minor": 0,
  "metadata": {
    "colab": {
      "name": "LABA4.ipynb",
      "provenance": [],
      "collapsed_sections": [],
      "authorship_tag": "ABX9TyOzHLkIJIc9/9HZvBtGkgHT"
    },
    "kernelspec": {
      "name": "python3",
      "display_name": "Python 3"
    }
  },
  "cells": [
    {
      "cell_type": "code",
      "metadata": {
        "id": "__YkCMEfgmnT",
        "colab_type": "code",
        "colab": {
          "base_uri": "https://localhost:8080/",
          "height": 54
        },
        "outputId": "179bfc4a-8d34-4570-ec14-a8ec41fa73f3"
      },
      "source": [
        "import cv2\n",
        "import numpy as np\n",
        "import matplotlib.pyplot as plt\n",
        "import os\n",
        "img_list = os.listdir(\"./assignemnts/dataset\")\n",
        "img_list.sort()\n",
        "print(img_list)"
      ],
      "execution_count": 5,
      "outputs": [
        {
          "output_type": "stream",
          "text": [
            "['image_0001.jpg', 'image_0002.jpg', 'image_0003.jpg', 'image_0004.jpg', 'image_0005.jpg', 'image_0006.jpg', 'image_0007.jpg', 'image_0008.jpg', 'image_0009.jpg', 'image_0010.jpg']\n"
          ],
          "name": "stdout"
        }
      ]
    },
    {
      "cell_type": "code",
      "metadata": {
        "id": "il4EYHVbkm42",
        "colab_type": "code",
        "colab": {}
      },
      "source": [
        "def data_augmentation(img):\n",
        "  height = img.shape[0]\n",
        "  width = img.shape[1]\n",
        "  #інверсія яскравості пікселів\n",
        "  for i in range(height):\n",
        "    for j in range(width):\n",
        "      img[i][j]=254-img[i][j]\n",
        "  #гамма корекція яскравості пікселів\n",
        "  gamma=0.5\n",
        "  img=np.power(img,gamma)\n",
        "  img=(img/np.max(img)*255).astype(np.uint8)\n",
        "  #згладжування зображення\n",
        "  img=cv2.GaussianBlur(img, (3,3), 0)\n",
        "  #перевернути зображення горизонтально\n",
        "  src = np.float32([[0, 0],[0, height],[width, height],[width,0]])\n",
        "  dst = np.float32([[0, height],[0, 0],[width,0],[width, height]])\n",
        "  Mper=cv2.getPerspectiveTransform(src,dst)\n",
        "  img=cv2.warpPerspective(img,Mper,(width,height))\n",
        "  #переміщення зображення\n",
        "  M=np.float32([[1,0,-width*1/4],\n",
        "               [0,1,height*1/5]])\n",
        "  img=cv2.warpAffine(img,M,(width, height), borderValue=255)\n",
        "  #обертання зображення\n",
        "  M180=cv2.getRotationMatrix2D((width/2, height/2), 180, 1)\n",
        "  img=cv2.warpAffine(img,M180,(width, height))\n",
        "  #перекіс зображення\n",
        "  skew=np.float32([[1,1,1],\n",
        "                  [0,1,1]])\n",
        "  img=cv2.warpAffine(img,skew,(width,height))\n",
        "  return img"
      ],
      "execution_count": 0,
      "outputs": []
    },
    {
      "cell_type": "code",
      "metadata": {
        "id": "uEKvS3zeknjv",
        "colab_type": "code",
        "colab": {
          "base_uri": "https://localhost:8080/",
          "height": 187
        },
        "outputId": "feac894a-4d9c-418c-d147-1691895a1131"
      },
      "source": [
        "for i in img_list:\n",
        "  img_path=os.path.join(r\"./assignemnts/dataset/\", i)\n",
        "  img = cv2.imread(img_path, cv2.IMREAD_GRAYSCALE)\n",
        "  aug_path=os.path.join(r\"./assignemnts/dataset/\", \"aug\"+i)\n",
        "  cv2.imwrite(aug_path, data_augmentation(img))\n",
        "  print(aug_path + \" saved!\")\n",
        "  "
      ],
      "execution_count": 89,
      "outputs": [
        {
          "output_type": "stream",
          "text": [
            "./assignemnts/dataset/augimage_0001.jpg saved!\n",
            "./assignemnts/dataset/augimage_0002.jpg saved!\n",
            "./assignemnts/dataset/augimage_0003.jpg saved!\n",
            "./assignemnts/dataset/augimage_0004.jpg saved!\n",
            "./assignemnts/dataset/augimage_0005.jpg saved!\n",
            "./assignemnts/dataset/augimage_0006.jpg saved!\n",
            "./assignemnts/dataset/augimage_0007.jpg saved!\n",
            "./assignemnts/dataset/augimage_0008.jpg saved!\n",
            "./assignemnts/dataset/augimage_0009.jpg saved!\n",
            "./assignemnts/dataset/augimage_0010.jpg saved!\n"
          ],
          "name": "stdout"
        }
      ]
    },
    {
      "cell_type": "code",
      "metadata": {
        "id": "eUxDlFQsv6Wc",
        "colab_type": "code",
        "colab": {}
      },
      "source": [
        "#перевернути зображення горизонтально/вертикально\n",
        "#переміщення зображення\n",
        "#обертання зображення\n",
        "#перекіс зображення\n"
      ],
      "execution_count": 0,
      "outputs": []
    }
  ]
}